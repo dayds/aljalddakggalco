{
 "cells": [
  {
   "cell_type": "code",
   "execution_count": null,
   "metadata": {},
   "outputs": [],
   "source": [
    "def take_away_chocolate(chocolate):\n",
    "    day = 0\n",
    "    cnt = 0\n",
    "    min_chocolate_cnt = min(chocolate)\n",
    "    for i in range(1, len(chocolate)):\n",
    "        if chocolate[i - 1] <= chocolate[i] and min_chocolate_cnt < chocolate[i]:\n",
    "            while chocolate[i] > chocolate[i - 1]:\n",
    "                chocolate[i] -= 1\n",
    "                cnt += 1\n",
    "            day += 1\n",
    "\n",
    "    print(cnt, day)\n",
    "\n",
    "\n",
    "n, k = map(int, input().split())\n",
    "arr = list(map(int, input().rstrip().split()))\n",
    "take_away_chocolate(sorted(arr))"
   ]
  },
  {
   "cell_type": "code",
   "execution_count": null,
   "metadata": {},
   "outputs": [],
   "source": []
  }
 ],
 "metadata": {
  "kernelspec": {
   "display_name": "Python 3",
   "language": "python",
   "name": "python3"
  },
  "language_info": {
   "name": "python",
   "version": "3.10.2"
  }
 },
 "nbformat": 4,
 "nbformat_minor": 2
}
