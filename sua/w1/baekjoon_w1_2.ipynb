{
 "cells": [
  {
   "cell_type": "code",
   "execution_count": null,
   "metadata": {},
   "outputs": [],
   "source": [
    "import sys\n",
    "\n",
    "def process_reservations(N, M, reservations):\n",
    "    last_end_time = {}  \n",
    "    results = []\n",
    "\n",
    "    for k, s, e in reservations:\n",
    "        if k in last_end_time and last_end_time[k] > s:\n",
    "            results.append(\"NO\")  \n",
    "        else:\n",
    "            results.append(\"YES\")  \n",
    "            last_end_time[k] = e  \n",
    "    \n",
    "    sys.stdout.write(\"\\n\".join(results) + \"\\n\")\n",
    "\n",
    "# 입력 받기\n",
    "if __name__ == \"__main__\":\n",
    "    N, M = map(int, sys.stdin.readline().split())\n",
    "    reservations = [tuple(map(int, sys.stdin.readline().split())) for _ in range(M)]\n",
    "    process_reservations(N, M, reservations)\n"
   ]
  },
  {
   "cell_type": "code",
   "execution_count": null,
   "metadata": {},
   "outputs": [],
   "source": []
  }
 ],
 "metadata": {
  "kernelspec": {
   "display_name": "Python 3",
   "language": "python",
   "name": "python3"
  },
  "language_info": {
   "name": "python",
   "version": "3.10.2"
  }
 },
 "nbformat": 4,
 "nbformat_minor": 2
}
